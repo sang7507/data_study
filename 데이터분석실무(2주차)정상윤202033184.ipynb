{
  "nbformat": 4,
  "nbformat_minor": 0,
  "metadata": {
    "colab": {
      "provenance": [],
      "toc_visible": true,
      "authorship_tag": "ABX9TyOPxEFrdH5WgweTPKtNXfZS",
      "include_colab_link": true
    },
    "kernelspec": {
      "name": "python3",
      "display_name": "Python 3"
    },
    "language_info": {
      "name": "python"
    }
  },
  "cells": [
    {
      "cell_type": "markdown",
      "metadata": {
        "id": "view-in-github",
        "colab_type": "text"
      },
      "source": [
        "<a href=\"https://colab.research.google.com/github/sang7507/data_study/blob/main/%EB%8D%B0%EC%9D%B4%ED%84%B0%EB%B6%84%EC%84%9D%EC%8B%A4%EB%AC%B4(2%EC%A3%BC%EC%B0%A8)%EC%A0%95%EC%83%81%EC%9C%A4202033184.ipynb\" target=\"_parent\"><img src=\"https://colab.research.google.com/assets/colab-badge.svg\" alt=\"Open In Colab\"/></a>"
      ]
    },
    {
      "cell_type": "markdown",
      "source": [
        "# 변수의 생성과 활용"
      ],
      "metadata": {
        "id": "116LtmE5KtPq"
      }
    },
    {
      "cell_type": "code",
      "source": [
        "# 변수의 특징\n",
        "name = 'sangyun'\n",
        "age = 24\n",
        "major = '컴퓨터공학과'\n",
        "print(name)\n",
        "print(age)\n",
        "print(major)\n",
        "print(name,age,major)"
      ],
      "metadata": {
        "colab": {
          "base_uri": "https://localhost:8080/"
        },
        "id": "NKKpZJPfKwio",
        "outputId": "ce44cd2f-89d3-4a56-8935-cb9a3df23e1d"
      },
      "execution_count": null,
      "outputs": [
        {
          "output_type": "stream",
          "name": "stdout",
          "text": [
            "sangyun\n",
            "24\n",
            "컴퓨터 공학과\n",
            "sangyun 24 컴퓨터 공학과\n"
          ]
        }
      ]
    },
    {
      "cell_type": "code",
      "source": [
        "# 변수를 사용하는 이유\n",
        "print('Hello python')\n",
        "# 인사말을 변경하려면 하나하나 변경"
      ],
      "metadata": {
        "colab": {
          "base_uri": "https://localhost:8080/"
        },
        "id": "zVGOV7EYLcJn",
        "outputId": "d94e206e-0228-4877-e1dd-83f814e649e6"
      },
      "execution_count": null,
      "outputs": [
        {
          "output_type": "stream",
          "name": "stdout",
          "text": [
            "Hello python\n"
          ]
        }
      ]
    },
    {
      "cell_type": "code",
      "source": [
        "# 변수를 사용한 소스코드\n",
        "# 변수만 수정하면 인사말 변경 가\n",
        "greeting = \"안녕 파이썬\"\n",
        "print(greeting)"
      ],
      "metadata": {
        "colab": {
          "base_uri": "https://localhost:8080/"
        },
        "id": "T3iXpygCL_c5",
        "outputId": "642ade65-fbb6-425e-873c-ba7bb63fb4ec"
      },
      "execution_count": null,
      "outputs": [
        {
          "output_type": "stream",
          "name": "stdout",
          "text": [
            "안녕 파이썬\n"
          ]
        }
      ]
    },
    {
      "cell_type": "markdown",
      "source": [
        "# 기본 자료형 4가지\n",
        "- 정수형 int\n",
        "- 실수형 float\n",
        "- 문자열형 str\n",
        "- 불형 boolean\n"
      ],
      "metadata": {
        "id": "KEqJuO5uMx6A"
      }
    },
    {
      "cell_type": "code",
      "source": [
        "a = 100\n",
        "b = 95.6\n",
        "c = 'ABC'\n",
        "d = True\n",
        "type(a) # 자료형을 알려주는 함수\n",
        "type(b)\n",
        "type(c)\n",
        "type(d)\n",
        "print(type(a),type(b),type(c),type(d))"
      ],
      "metadata": {
        "colab": {
          "base_uri": "https://localhost:8080/"
        },
        "id": "UsD6BmAEMxBO",
        "outputId": "91991f4a-534f-4c5a-9086-85477144a855"
      },
      "execution_count": null,
      "outputs": [
        {
          "output_type": "stream",
          "name": "stdout",
          "text": [
            "<class 'int'> <class 'float'> <class 'str'> <class 'bool'>\n"
          ]
        }
      ]
    },
    {
      "cell_type": "markdown",
      "source": [
        "# 기본 연산자\n",
        "- 산술연산자 :\n",
        "//(몫), %(나머지)\n",
        "- 대입연산자 : =\n",
        "- 비교(관계)연산자 : >=, <=, ==(동등연산자)\n",
        "- 논리연산자 : and, or, not"
      ],
      "metadata": {
        "id": "XFS-Kq_jS8FR"
      }
    },
    {
      "cell_type": "code",
      "source": [
        "# 자판기 프로그램\n",
        "money = int(input('돈을 투입해 주세요 :'))\n",
        "price = int(input('메뉴가격 :'))\n",
        "change = money -price\n",
        "print('잔돈',change)\n",
        "# 동전교환기\n",
        "coin500 = change//500 # 500개수\n",
        "change = change%500 # 잔돈\n",
        "coin100 = change//100 # 100개수\n",
        "print('coin500',coin500,'개')\n",
        "print('coin100',coin100,'개')"
      ],
      "metadata": {
        "colab": {
          "base_uri": "https://localhost:8080/"
        },
        "id": "ApoN9UGUTFvC",
        "outputId": "b2c7289e-700c-4a4e-b5c0-24ae04ae904c"
      },
      "execution_count": null,
      "outputs": [
        {
          "output_type": "stream",
          "name": "stdout",
          "text": [
            "돈을 투입해 주세요 :2000\n",
            "메뉴가격 :1000\n",
            "잔돈 1000\n",
            "coin500 2 개\n",
            "coin100 0 개\n"
          ]
        }
      ]
    },
    {
      "cell_type": "markdown",
      "source": [
        "# 표준 입출력 함수\n",
        "- 입력함수 : input()\n",
        "- 출력함수 : print()"
      ],
      "metadata": {
        "id": "eJ6xotBjVjRH"
      }
    },
    {
      "cell_type": "code",
      "source": [
        "# 이름과 나이 입력받고 변수에 저장후 출력\n",
        "name = str(input('이름을 입력하세요 :'))\n",
        "age = int(input('나이를 입력하세요 :'))\n",
        "print(name,age\n",
        "      )\n",
        "# 목표 점수를 입력 받아 출력\n",
        "score = input('score :') #문자열 형임\n",
        "print(score)\n",
        "print(type(score))"
      ],
      "metadata": {
        "colab": {
          "base_uri": "https://localhost:8080/"
        },
        "id": "CiRYHqPWV2yw",
        "outputId": "95f8414f-7bd2-4433-b709-231e049003c9"
      },
      "execution_count": null,
      "outputs": [
        {
          "output_type": "stream",
          "name": "stdout",
          "text": [
            "이름을 입력하세요 :asd\n",
            "나이를 입력하세요 :21\n",
            "asd 21\n",
            "score :asd\n",
            "asd\n",
            "<class 'str'>\n"
          ]
        }
      ]
    },
    {
      "cell_type": "code",
      "source": [
        "# 자료형 변환함수 : int(), float(), str(), bool()\n",
        "int('10')\n",
        "float('10.5')\n",
        "str(10)"
      ],
      "metadata": {
        "colab": {
          "base_uri": "https://localhost:8080/",
          "height": 35
        },
        "id": "6dajUUfIXSo4",
        "outputId": "37c2f174-06b4-4d31-ad72-599fb1e7e73d"
      },
      "execution_count": null,
      "outputs": [
        {
          "output_type": "execute_result",
          "data": {
            "text/plain": [
              "'10'"
            ],
            "application/vnd.google.colaboratory.intrinsic+json": {
              "type": "string"
            }
          },
          "metadata": {},
          "execution_count": 27
        }
      ]
    },
    {
      "cell_type": "code",
      "source": [
        "# 문자열 연산자 : +(연결), *(반복)"
      ],
      "metadata": {
        "id": "A2Y-Na1uZzk_"
      },
      "execution_count": null,
      "outputs": []
    },
    {
      "cell_type": "code",
      "source": [
        "# 두 정수(실수)를 입력 받아 사칙연산결과를 출력.\n",
        "n1 = float(input('숫자 1 :'))\n",
        "n2 = float(input('숫자 2 :'))\n",
        "print(n1+n2)\n",
        "print(n1-n2)\n",
        "print(n1*n2)\n",
        "print(n1/n2)"
      ],
      "metadata": {
        "colab": {
          "base_uri": "https://localhost:8080/"
        },
        "id": "Kr0mqqFAXHtn",
        "outputId": "6eaeabf9-e63d-45a6-bd2a-7b098b0758b1"
      },
      "execution_count": null,
      "outputs": [
        {
          "output_type": "stream",
          "name": "stdout",
          "text": [
            "숫자 1 :10.5\n",
            "숫자 2 :3.5\n",
            "14.0\n",
            "7.0\n",
            "36.75\n",
            "3.0\n"
          ]
        }
      ]
    },
    {
      "cell_type": "markdown",
      "source": [
        "# 출력함수 포매팅 방법\n",
        "- 콤마연산자 사용\n",
        "- 형식지정자 사용(%d, %f, %s)\n",
        "- 문자열.format()함수 사용\n",
        "- f-string 사용(*)"
      ],
      "metadata": {
        "id": "NMyAaUldZ8q4"
      }
    },
    {
      "cell_type": "code",
      "source": [
        "name = 'sang'\n",
        "age = 24\n",
        "score = 95.4"
      ],
      "metadata": {
        "id": "RRtgLb05aQ9O"
      },
      "execution_count": null,
      "outputs": []
    },
    {
      "cell_type": "code",
      "source": [
        "#1.콤마 연산자 사용\n",
        "print(name,age)"
      ],
      "metadata": {
        "colab": {
          "base_uri": "https://localhost:8080/"
        },
        "id": "fe1aN7POaXzW",
        "outputId": "a7fe7df6-ef07-4006-b3bd-0b403b41c60e"
      },
      "execution_count": null,
      "outputs": [
        {
          "output_type": "stream",
          "name": "stdout",
          "text": [
            "sang 24\n"
          ]
        }
      ]
    },
    {
      "cell_type": "code",
      "source": [
        "#2. 형식지정자 사용\n",
        "print('나의 이름은 %s 입니다.' % name)\n",
        "print('나의 이름은 %d 입니다.' % age)\n",
        "print('나의 점수는 %.2f 입니다.' % score)"
      ],
      "metadata": {
        "colab": {
          "base_uri": "https://localhost:8080/"
        },
        "id": "ieXlf2M6am89",
        "outputId": "21aec9ed-3145-4d07-a8d5-00c2fca69274"
      },
      "execution_count": null,
      "outputs": [
        {
          "output_type": "stream",
          "name": "stdout",
          "text": [
            "나의 이름은 sang 입니다.\n",
            "나의 이름은 24 입니다.\n",
            "나의 점수는 95.40 입니다.\n"
          ]
        }
      ]
    },
    {
      "cell_type": "code",
      "source": [
        "#3 f-string 사용\n",
        "print(f'나의 이름은 {name} 입니다.')\n",
        "print(f'나의 나이는 {age} 입니다.')\n",
        "print(f'나의 점수는 {score} 입니다.')"
      ],
      "metadata": {
        "colab": {
          "base_uri": "https://localhost:8080/"
        },
        "id": "bllLT4kscVgP",
        "outputId": "650e667c-e628-4fdd-8f2a-1a80ff8b0488"
      },
      "execution_count": null,
      "outputs": [
        {
          "output_type": "stream",
          "name": "stdout",
          "text": [
            "나의 이름은 sang 입니다.\n",
            "나의 나이는 24 입니다.\n",
            "나의 점수는 95.4 입니다.\n"
          ]
        }
      ]
    },
    {
      "cell_type": "markdown",
      "source": [
        "# 컬렉션 자료형\n",
        "- 리스트 : list []\n",
        "- 튜플 : tuple () 순서중시\n",
        "- 딕셔너리 : dict {키:값} 키랑관련된 값을 찾기 위해사용\n",
        "- 세트 : set {} 집합연산 사용\n"
      ],
      "metadata": {
        "id": "UGboLzTUg6fF"
      }
    },
    {
      "cell_type": "markdown",
      "source": [
        "## 리스트 자료형\n"
      ],
      "metadata": {
        "id": "WF3kmNemheUH"
      }
    },
    {
      "cell_type": "code",
      "source": [
        "stu = ['sang',24,'컴퓨터공학',['게임','탁구']]\n",
        "stu[0]\n",
        "stu[1]\n",
        "stu[2]\n",
        "stu[-1]"
      ],
      "metadata": {
        "colab": {
          "base_uri": "https://localhost:8080/"
        },
        "id": "ncwnCytChkA1",
        "outputId": "9bd5185e-3c19-46e4-c620-d7b40bc715d5"
      },
      "execution_count": null,
      "outputs": [
        {
          "output_type": "execute_result",
          "data": {
            "text/plain": [
              "['게임', '탁구']"
            ]
          },
          "metadata": {},
          "execution_count": 59
        }
      ]
    },
    {
      "cell_type": "code",
      "source": [
        "stu[0] = '상윤'"
      ],
      "metadata": {
        "id": "bJxBfXRLieqe"
      },
      "execution_count": null,
      "outputs": []
    },
    {
      "cell_type": "code",
      "source": [
        "# 전체조회\n",
        "stu"
      ],
      "metadata": {
        "colab": {
          "base_uri": "https://localhost:8080/"
        },
        "id": "RtjGUQdrimgl",
        "outputId": "68ac51b1-2858-4b8f-bf0e-51caef8b1a2a"
      },
      "execution_count": null,
      "outputs": [
        {
          "output_type": "execute_result",
          "data": {
            "text/plain": [
              "['상윤', 24, '컴퓨터공학', ['게임', '탁구']]"
            ]
          },
          "metadata": {},
          "execution_count": 61
        }
      ]
    },
    {
      "cell_type": "code",
      "source": [
        "# 3 리스트 슬라이싱\n",
        "stu[0:3] #결과는 종료인덱스(3) -1 까지 -> 0부터 2번까지"
      ],
      "metadata": {
        "colab": {
          "base_uri": "https://localhost:8080/"
        },
        "id": "waOmyRj2ivFG",
        "outputId": "4cbe8ea0-49f6-4ee8-8b1f-4f0b9d8e8b2e"
      },
      "execution_count": null,
      "outputs": [
        {
          "output_type": "execute_result",
          "data": {
            "text/plain": [
              "['상윤', 24, '컴퓨터공학']"
            ]
          },
          "metadata": {},
          "execution_count": 63
        }
      ]
    },
    {
      "cell_type": "code",
      "source": [
        "# 리스트 조작(제어) 함수\n",
        "sing = ['성시경','조규현','비비','잔나비']"
      ],
      "metadata": {
        "id": "V1m7kjP0jG4c"
      },
      "execution_count": null,
      "outputs": []
    },
    {
      "cell_type": "markdown",
      "source": [
        "![image.png](data:image/png;base64,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)\n",
        "![image.png](data:image/png;base64,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)"
      ],
      "metadata": {
        "id": "k3FfUtv-j4OW"
      }
    },
    {
      "cell_type": "code",
      "source": [
        "#오름차순 정렬\n",
        "sing.sort()"
      ],
      "metadata": {
        "id": "5CMgNzOhjeq-"
      },
      "execution_count": null,
      "outputs": []
    },
    {
      "cell_type": "code",
      "source": [
        "#전체조회\n",
        "sing"
      ],
      "metadata": {
        "colab": {
          "base_uri": "https://localhost:8080/"
        },
        "id": "_q3qdiEujp61",
        "outputId": "43869bbc-bf47-4a70-c54d-0477ad9dd1f6"
      },
      "execution_count": null,
      "outputs": [
        {
          "output_type": "execute_result",
          "data": {
            "text/plain": [
              "['비비', '성시경', '잔나비', '조규현', '찰리푸스']"
            ]
          },
          "metadata": {},
          "execution_count": 68
        }
      ]
    },
    {
      "cell_type": "code",
      "source": [
        "#리스트 항목 추가\n",
        "sing.append('찰리푸스')"
      ],
      "metadata": {
        "id": "aOFXYsknj_A_"
      },
      "execution_count": null,
      "outputs": []
    },
    {
      "cell_type": "markdown",
      "source": [
        "## 딕셔너리 자료형\n",
        "- **키 : 값 데이터를 관리**"
      ],
      "metadata": {
        "id": "XOv922e5kKgn"
      }
    },
    {
      "cell_type": "code",
      "source": [
        "# 학번 : 이름\n",
        "addr = {100:'홍길동',\n",
        "        200:'홍이동',\n",
        "        300:'홍삼동'}"
      ],
      "metadata": {
        "id": "Arr1ZVJYkjNF"
      },
      "execution_count": null,
      "outputs": []
    },
    {
      "cell_type": "code",
      "source": [
        "# 전체조회\n",
        "addr"
      ],
      "metadata": {
        "colab": {
          "base_uri": "https://localhost:8080/"
        },
        "id": "laX0MNAkk2T0",
        "outputId": "ae66b7ff-18b7-4812-82a5-b2c80645d07d"
      },
      "execution_count": null,
      "outputs": [
        {
          "output_type": "execute_result",
          "data": {
            "text/plain": [
              "{100: '홍길동', 200: '홍이동', 300: '홍감동'}"
            ]
          },
          "metadata": {},
          "execution_count": 71
        }
      ]
    },
    {
      "cell_type": "code",
      "source": [
        "# 학번 -> 이름 조회\n",
        "addr [100] #딕셔너리 조회시 대괄호 (키) 사용\n",
        "addr [200]\n",
        "addr [300]"
      ],
      "metadata": {
        "colab": {
          "base_uri": "https://localhost:8080/",
          "height": 35
        },
        "id": "vWIwoSDyk5vu",
        "outputId": "2f62adbd-4c89-46e9-e10d-55cec7f840c5"
      },
      "execution_count": null,
      "outputs": [
        {
          "output_type": "execute_result",
          "data": {
            "text/plain": [
              "'홍삼동'"
            ],
            "application/vnd.google.colaboratory.intrinsic+json": {
              "type": "string"
            }
          },
          "metadata": {},
          "execution_count": 74
        }
      ]
    }
  ]
}